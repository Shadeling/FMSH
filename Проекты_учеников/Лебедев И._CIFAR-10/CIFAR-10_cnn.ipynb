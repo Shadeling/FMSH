{
 "cells": [
  {
   "cell_type": "code",
   "execution_count": 1,
   "metadata": {},
   "outputs": [
    {
     "name": "stderr",
     "output_type": "stream",
     "text": [
      "Using TensorFlow backend.\n"
     ]
    }
   ],
   "source": [
    "import numpy\n",
    "from keras.datasets import cifar10\n",
    "from keras.models import Sequential\n",
    "from keras.layers import Dense, Flatten, Activation\n",
    "from keras.layers import Dropout\n",
    "from keras.layers.convolutional import Conv2D, MaxPooling2D\n",
    "from keras.utils import np_utils\n",
    "from keras.optimizers import SGD\n",
    "\n",
    "# seed для разброса картинок\n",
    "numpy.random.seed(42)\n",
    "# Загрузка данных\n",
    "(X_train, y_train), (X_test, y_test) = cifar10.load_data()\n",
    "# Размер мини-выборки\n",
    "batch_size = 32\n",
    "# Количество классов изображений\n",
    "nb_classes = 10\n",
    "# Количество эпох для обучения\n",
    "nb_epoch = 25\n",
    "# Размер изображений\n",
    "img_rows, img_cols = 32, 32\n",
    "# Количество каналов в изображении: RGB\n",
    "img_channels = 3\n",
    "\n",
    "# Нормализация данных\n",
    "X_train = X_train.astype('float32')\n",
    "X_test = X_test.astype('float32')\n",
    "X_train /= 255\n",
    "X_test /= 255\n",
    "\n",
    "# Преобразуем метки в категории\n",
    "Y_train = np_utils.to_categorical(y_train, nb_classes)\n",
    "Y_test = np_utils.to_categorical(y_test, nb_classes)"
   ]
  },
  {
   "cell_type": "code",
   "execution_count": 2,
   "metadata": {},
   "outputs": [],
   "source": [
    "# seed для повторяемости результатов\n",
    "numpy.random.seed(42)\n",
    "# Загрузка данных\n",
    "(X_train, y_train), (X_test, y_test) = cifar10.load_data()\n",
    "# Размер мини-выборки\n",
    "batch_size = 32\n",
    "# Кол-во классов изображений\n",
    "nb_classes = 10\n",
    "# Количество эпох для обучения\n",
    "nb_epoch = 25\n",
    "# Размер изображений\n",
    "img_rows, img_cols = 32, 32\n",
    "# RGB\n",
    "img_channels = 3\n",
    "\n",
    "# Нормализация данных\n",
    "X_train = X_train.astype('float32')\n",
    "X_test = X_test.astype('float32')\n",
    "X_train /= 255\n",
    "X_test /= 255\n",
    "\n",
    "# Преобразование меток в категории\n",
    "Y_train = np_utils.to_categorical(y_train, nb_classes)\n",
    "Y_test = np_utils.to_categorical(y_test, nb_classes)\n",
    "\n",
    "model = Sequential()"
   ]
  },
  {
   "cell_type": "code",
   "execution_count": 3,
   "metadata": {},
   "outputs": [],
   "source": [
    "\n",
    "# свертка 1\n",
    "model.add(Conv2D(32, (3, 3), padding='same',\n",
    "                        input_shape=(32, 32, 3), activation='relu'))\n",
    "# свертка 2\n",
    "model.add(Conv2D(32, (3, 3), activation='relu', padding='same'))\n",
    "# подвыборка 1\n",
    "model.add(MaxPooling2D(pool_size=(2, 2)))\n",
    "# исключение переобучения\n",
    "model.add(Dropout(0.25))\n",
    "# свертка 3\n",
    "model.add(Conv2D(64, (3, 3), padding='same', activation='relu'))\n",
    "# свертка 4\n",
    "model.add(Conv2D(64, (3, 3), activation='relu'))\n",
    "# подвыборка 2\n",
    "model.add(MaxPooling2D(pool_size=(2, 2)))\n",
    "# исключение переобучения\n",
    "model.add(Dropout(0.25))\n",
    "# преобразования данных из 2Д в плоскость\n",
    "model.add(Flatten())\n",
    "# Полносвязная классификация\n",
    "model.add(Dense(512, activation='relu'))\n",
    "# исключение переобучения\n",
    "model.add(Dropout(0.5))\n",
    "# Выходной полносвязный слой\n",
    "model.add(Dense(nb_classes, activation='softmax'))"
   ]
  },
  {
   "cell_type": "code",
   "execution_count": 4,
   "metadata": {},
   "outputs": [
    {
     "name": "stdout",
     "output_type": "stream",
     "text": [
      "Train on 45000 samples, validate on 5000 samples\n",
      "Epoch 1/25\n",
      "45000/45000 [==============================] - 216s 5ms/step - loss: 1.7460 - accuracy: 0.3586 - val_loss: 1.3319 - val_accuracy: 0.5126\n",
      "Epoch 2/25\n",
      "45000/45000 [==============================] - 208s 5ms/step - loss: 1.2781 - accuracy: 0.5411 - val_loss: 1.0445 - val_accuracy: 0.6312\n",
      "Epoch 3/25\n",
      "45000/45000 [==============================] - 206s 5ms/step - loss: 1.1084 - accuracy: 0.6050 - val_loss: 0.9366 - val_accuracy: 0.6698\n",
      "Epoch 4/25\n",
      "45000/45000 [==============================] - 211s 5ms/step - loss: 0.9887 - accuracy: 0.6482 - val_loss: 0.8493 - val_accuracy: 0.7110\n",
      "Epoch 5/25\n",
      "45000/45000 [==============================] - 195s 4ms/step - loss: 0.9031 - accuracy: 0.6808 - val_loss: 0.8263 - val_accuracy: 0.7148\n",
      "Epoch 6/25\n",
      "45000/45000 [==============================] - 172s 4ms/step - loss: 0.8498 - accuracy: 0.6986 - val_loss: 0.7556 - val_accuracy: 0.7424\n",
      "Epoch 7/25\n",
      "45000/45000 [==============================] - 176s 4ms/step - loss: 0.8041 - accuracy: 0.7179 - val_loss: 0.7674 - val_accuracy: 0.7382\n",
      "Epoch 8/25\n",
      "45000/45000 [==============================] - 179s 4ms/step - loss: 0.7577 - accuracy: 0.7348 - val_loss: 0.8007 - val_accuracy: 0.7342\n",
      "Epoch 9/25\n",
      "45000/45000 [==============================] - 183s 4ms/step - loss: 0.7321 - accuracy: 0.7433 - val_loss: 0.7504 - val_accuracy: 0.7430\n",
      "Epoch 10/25\n",
      "45000/45000 [==============================] - 184s 4ms/step - loss: 0.6986 - accuracy: 0.7560 - val_loss: 0.6952 - val_accuracy: 0.7568\n",
      "Epoch 11/25\n",
      "45000/45000 [==============================] - 183s 4ms/step - loss: 0.6681 - accuracy: 0.7628 - val_loss: 0.6691 - val_accuracy: 0.7700\n",
      "Epoch 12/25\n",
      "45000/45000 [==============================] - 189s 4ms/step - loss: 0.6593 - accuracy: 0.7711 - val_loss: 0.7387 - val_accuracy: 0.7552\n",
      "Epoch 13/25\n",
      "45000/45000 [==============================] - 183s 4ms/step - loss: 0.6405 - accuracy: 0.7760 - val_loss: 0.6795 - val_accuracy: 0.7732\n",
      "Epoch 14/25\n",
      "45000/45000 [==============================] - 185s 4ms/step - loss: 0.6227 - accuracy: 0.7816 - val_loss: 0.7142 - val_accuracy: 0.7620\n",
      "Epoch 15/25\n",
      "45000/45000 [==============================] - 187s 4ms/step - loss: 0.6074 - accuracy: 0.7866 - val_loss: 0.6945 - val_accuracy: 0.7666\n",
      "Epoch 16/25\n",
      "45000/45000 [==============================] - 177s 4ms/step - loss: 0.6044 - accuracy: 0.7887 - val_loss: 0.6923 - val_accuracy: 0.7746\n",
      "Epoch 17/25\n",
      "45000/45000 [==============================] - 180s 4ms/step - loss: 0.5879 - accuracy: 0.7917 - val_loss: 0.7390 - val_accuracy: 0.7586\n",
      "Epoch 18/25\n",
      "45000/45000 [==============================] - 182s 4ms/step - loss: 0.5963 - accuracy: 0.7951 - val_loss: 0.7214 - val_accuracy: 0.7576\n",
      "Epoch 19/25\n",
      "45000/45000 [==============================] - 174s 4ms/step - loss: 0.5714 - accuracy: 0.8021 - val_loss: 0.7151 - val_accuracy: 0.7726\n",
      "Epoch 20/25\n",
      "45000/45000 [==============================] - 176s 4ms/step - loss: 0.5690 - accuracy: 0.8011 - val_loss: 0.6825 - val_accuracy: 0.7742\n",
      "Epoch 21/25\n",
      "45000/45000 [==============================] - 180s 4ms/step - loss: 0.5690 - accuracy: 0.8041 - val_loss: 0.6823 - val_accuracy: 0.7768\n",
      "Epoch 22/25\n",
      "45000/45000 [==============================] - 183s 4ms/step - loss: 0.5467 - accuracy: 0.8091 - val_loss: 0.7045 - val_accuracy: 0.7718\n",
      "Epoch 23/25\n",
      "45000/45000 [==============================] - 182s 4ms/step - loss: 0.5528 - accuracy: 0.8108 - val_loss: 0.7511 - val_accuracy: 0.7616\n",
      "Epoch 24/25\n",
      "45000/45000 [==============================] - 173s 4ms/step - loss: 0.5498 - accuracy: 0.8103 - val_loss: 0.6615 - val_accuracy: 0.7830\n",
      "Epoch 25/25\n",
      "45000/45000 [==============================] - 178s 4ms/step - loss: 0.5347 - accuracy: 0.8174 - val_loss: 0.6743 - val_accuracy: 0.7832\n"
     ]
    },
    {
     "data": {
      "text/plain": [
       "<keras.callbacks.callbacks.History at 0x217dfeafe48>"
      ]
     },
     "execution_count": 4,
     "metadata": {},
     "output_type": "execute_result"
    }
   ],
   "source": [
    "# оптимизация\n",
    "sgd = SGD(lr=0.01, decay=1e-6, momentum=0.9, nesterov=True)\n",
    "model.compile(loss='categorical_crossentropy',\n",
    "              optimizer=sgd,\n",
    "              metrics=['accuracy'])\n",
    "# Обучение\n",
    "model.fit(X_train, Y_train,\n",
    "              batch_size=batch_size,\n",
    "              epochs=nb_epoch,\n",
    "              validation_split=0.1,\n",
    "              shuffle=True,\n",
    "              verbose=1)\n",
    "\n"
   ]
  },
  {
   "cell_type": "code",
   "execution_count": 9,
   "metadata": {},
   "outputs": [
    {
     "name": "stdout",
     "output_type": "stream",
     "text": [
      "10000/10000 [==============================] - 11s 1ms/step\n",
      "Точность работы на тестовых данных: 77.32%\n"
     ]
    }
   ],
   "source": [
    "# Оцениваем качество обучения модели на тестовых данных\n",
    "scores = model.evaluate(X_test, Y_test, verbose=1)\n",
    "print(\"Точность работы на тестовых данных: %.2f%%\" % (scores[1]*100))"
   ]
  },
  {
   "cell_type": "code",
   "execution_count": null,
   "metadata": {},
   "outputs": [],
   "source": []
  }
 ],
 "metadata": {
  "kernelspec": {
   "display_name": "Python 3",
   "language": "python",
   "name": "python3"
  },
  "language_info": {
   "codemirror_mode": {
    "name": "ipython",
    "version": 3
   },
   "file_extension": ".py",
   "mimetype": "text/x-python",
   "name": "python",
   "nbconvert_exporter": "python",
   "pygments_lexer": "ipython3",
   "version": "3.7.4"
  }
 },
 "nbformat": 4,
 "nbformat_minor": 2
}
